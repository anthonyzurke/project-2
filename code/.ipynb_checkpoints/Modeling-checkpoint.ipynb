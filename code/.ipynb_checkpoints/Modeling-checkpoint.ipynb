{
 "cells": [
  {
   "cell_type": "code",
   "execution_count": 1,
   "id": "20c0b86f",
   "metadata": {},
   "outputs": [],
   "source": [
    "import numpy as np\n",
    "import pandas as pd\n",
    "import matplotlib.pyplot as plt\n",
    "import seaborn as sns\n",
    "\n",
    "from sklearn.linear_model import LinearRegression, Lasso, Ridge\n",
    "from sklearn.metrics import mean_squared_error, mean_absolute_error, r2_score\n",
    "from sklearn import metrics\n",
    "from sklearn.model_selection import train_test_split, KFold, LeaveOneOut, cross_val_score\n",
    "from sklearn.linear_model import LassoCV, RidgeCV\n",
    "from sklearn.preprocessing import StandardScaler\n",
    "\n",
    "import sys\n",
    "if not sys.warnoptions:\n",
    "    import warnings\n",
    "    warnings.simplefilter(\"ignore\")"
   ]
  },
  {
   "cell_type": "code",
   "execution_count": 2,
   "id": "641e09d3",
   "metadata": {},
   "outputs": [],
   "source": [
    "# training and test data\n",
    "df_train = pd.read_csv('../datasets/clean_df_train.csv')\n",
    "df_test = pd.read_csv('../datasets/clean_df_test.csv')\n",
    "\n",
    "df_train = df_train.drop(columns = 'Unnamed: 0')\n",
    "df_test = df_test.drop(columns = 'Unnamed: 0')\n",
    "\n",
    "df_train.fillna(value = 0, inplace = True)\n",
    "df_test.fillna(value = 0, inplace = True)"
   ]
  },
  {
   "cell_type": "code",
   "execution_count": 3,
   "id": "5c955079",
   "metadata": {},
   "outputs": [],
   "source": [
    "df_train.to_csv('../datasets/clean_df_train.csv')\n",
    "df_test.to_csv('../datasets/clean_df_test.csv')"
   ]
  },
  {
   "cell_type": "code",
   "execution_count": 4,
   "id": "b65597e5",
   "metadata": {},
   "outputs": [
    {
     "data": {
      "text/plain": [
       "['bsmtfin_sf_1',\n",
       " 'bsmtfin_sf_2',\n",
       " 'bsmt_unf_sf',\n",
       " 'total_bsmt_sf',\n",
       " '1st_flr_sf',\n",
       " '2nd_flr_sf',\n",
       " 'low_qual_fin_sf',\n",
       " 'wood_deck_sf',\n",
       " 'open_porch_sf']"
      ]
     },
     "execution_count": 4,
     "metadata": {},
     "output_type": "execute_result"
    }
   ],
   "source": [
    "# combine columns for sq ft on train and test\n",
    "sf_columns = [cols for cols in df_train.columns if 'sf' in cols]\n",
    "sf_columns"
   ]
  },
  {
   "cell_type": "code",
   "execution_count": 5,
   "id": "d33e785a",
   "metadata": {},
   "outputs": [],
   "source": [
    "df_train['total_sq_ft'] = df_train['bsmtfin_sf_1'] + df_train['bsmtfin_sf_2'] + \\\n",
    "df_train['bsmt_unf_sf'] + df_train['total_bsmt_sf'] + df_train['1st_flr_sf'] + \\\n",
    "df_train['2nd_flr_sf'] + df_train['low_qual_fin_sf'] + df_train['wood_deck_sf'] + df_train['open_porch_sf']"
   ]
  },
  {
   "cell_type": "code",
   "execution_count": 6,
   "id": "2538f8f5",
   "metadata": {},
   "outputs": [],
   "source": [
    "df_test['total_sq_ft'] = df_test['bsmtfin_sf_1'] + df_test['bsmtfin_sf_2'] + \\\n",
    "df_test['bsmt_unf_sf'] + df_test['total_bsmt_sf'] + df_test['1st_flr_sf'] + \\\n",
    "df_test['2nd_flr_sf'] + df_test['low_qual_fin_sf'] + df_test['wood_deck_sf'] + df_test['open_porch_sf']"
   ]
  },
  {
   "cell_type": "code",
   "execution_count": 7,
   "id": "0226a1cf",
   "metadata": {},
   "outputs": [],
   "source": [
    "features = [col for col in df_train._get_numeric_data().columns \n",
    "            if col != 'saleprice']\n",
    "X = df_train[features]\n",
    "y = df_train['saleprice']\n",
    "\n",
    "X_train, X_test, y_train, y_test = train_test_split(X, y, random_state = 34)"
   ]
  },
  {
   "cell_type": "code",
   "execution_count": 8,
   "id": "76c8b0e8",
   "metadata": {},
   "outputs": [],
   "source": [
    "lr = LinearRegression()"
   ]
  },
  {
   "cell_type": "code",
   "execution_count": 9,
   "id": "72504438",
   "metadata": {},
   "outputs": [
    {
     "data": {
      "text/plain": [
       "0.7561030948609573"
      ]
     },
     "execution_count": 9,
     "metadata": {},
     "output_type": "execute_result"
    }
   ],
   "source": [
    "lr_score = cross_val_score(lr, X_train, y_train, cv=3)\n",
    "lr_score.mean()"
   ]
  },
  {
   "cell_type": "code",
   "execution_count": 10,
   "id": "e1808299",
   "metadata": {},
   "outputs": [
    {
     "data": {
      "text/plain": [
       "LinearRegression()"
      ]
     },
     "execution_count": 10,
     "metadata": {},
     "output_type": "execute_result"
    }
   ],
   "source": [
    "lr.fit(X_train, y_train)"
   ]
  },
  {
   "cell_type": "code",
   "execution_count": 11,
   "id": "f67734ee",
   "metadata": {},
   "outputs": [
    {
     "data": {
      "text/plain": [
       "0.8340044397898345"
      ]
     },
     "execution_count": 11,
     "metadata": {},
     "output_type": "execute_result"
    }
   ],
   "source": [
    "lr.score(X_train, y_train)"
   ]
  },
  {
   "cell_type": "code",
   "execution_count": 12,
   "id": "30f1708a",
   "metadata": {},
   "outputs": [
    {
     "data": {
      "text/plain": [
       "0.8530737378134947"
      ]
     },
     "execution_count": 12,
     "metadata": {},
     "output_type": "execute_result"
    }
   ],
   "source": [
    "lr.score(X_test, y_test)"
   ]
  },
  {
   "cell_type": "code",
   "execution_count": 13,
   "id": "a099dd20",
   "metadata": {},
   "outputs": [
    {
     "data": {
      "text/plain": [
       "0.7561030948609573"
      ]
     },
     "execution_count": 13,
     "metadata": {},
     "output_type": "execute_result"
    }
   ],
   "source": [
    "lr_score.mean()"
   ]
  },
  {
   "cell_type": "code",
   "execution_count": 14,
   "id": "d330fc8d",
   "metadata": {},
   "outputs": [],
   "source": [
    "predictions = lr.predict(X_test)"
   ]
  },
  {
   "cell_type": "code",
   "execution_count": 15,
   "id": "d394c11e",
   "metadata": {},
   "outputs": [
    {
     "data": {
      "text/plain": [
       "0.8530737378134947"
      ]
     },
     "execution_count": 15,
     "metadata": {},
     "output_type": "execute_result"
    }
   ],
   "source": [
    "r2_score(y_test, predictions)"
   ]
  },
  {
   "cell_type": "code",
   "execution_count": 16,
   "id": "898af0c1",
   "metadata": {},
   "outputs": [],
   "source": [
    "residuals = y_test - predictions"
   ]
  },
  {
   "cell_type": "code",
   "execution_count": 17,
   "id": "2139ebd1",
   "metadata": {},
   "outputs": [
    {
     "data": {
      "text/plain": [
       "490     -6634.520074\n",
       "486    -24109.584099\n",
       "1214    -3706.639378\n",
       "936     15132.103521\n",
       "1531    14472.611628\n",
       "            ...     \n",
       "121      1212.579330\n",
       "584     -7384.180104\n",
       "972    -23053.073723\n",
       "770     26987.391265\n",
       "869      4992.825073\n",
       "Name: saleprice, Length: 513, dtype: float64"
      ]
     },
     "execution_count": 17,
     "metadata": {},
     "output_type": "execute_result"
    }
   ],
   "source": [
    "residuals"
   ]
  },
  {
   "cell_type": "code",
   "execution_count": 18,
   "id": "51ff11f8",
   "metadata": {},
   "outputs": [],
   "source": [
    "kag_submission = df_test"
   ]
  },
  {
   "cell_type": "code",
   "execution_count": 19,
   "id": "00ec48a0",
   "metadata": {},
   "outputs": [],
   "source": [
    "kag_pred = lr.predict(df_test[features])"
   ]
  },
  {
   "cell_type": "code",
   "execution_count": 20,
   "id": "682fcbec",
   "metadata": {},
   "outputs": [],
   "source": [
    "kag_submission['saleprice'] = kag_pred"
   ]
  },
  {
   "cell_type": "code",
   "execution_count": 21,
   "id": "e99d1876",
   "metadata": {},
   "outputs": [
    {
     "data": {
      "text/html": [
       "<div>\n",
       "<style scoped>\n",
       "    .dataframe tbody tr th:only-of-type {\n",
       "        vertical-align: middle;\n",
       "    }\n",
       "\n",
       "    .dataframe tbody tr th {\n",
       "        vertical-align: top;\n",
       "    }\n",
       "\n",
       "    .dataframe thead th {\n",
       "        text-align: right;\n",
       "    }\n",
       "</style>\n",
       "<table border=\"1\" class=\"dataframe\">\n",
       "  <thead>\n",
       "    <tr style=\"text-align: right;\">\n",
       "      <th></th>\n",
       "      <th>id</th>\n",
       "      <th>saleprice</th>\n",
       "    </tr>\n",
       "  </thead>\n",
       "  <tbody>\n",
       "    <tr>\n",
       "      <th>0</th>\n",
       "      <td>2658</td>\n",
       "      <td>121108.402904</td>\n",
       "    </tr>\n",
       "    <tr>\n",
       "      <th>1</th>\n",
       "      <td>2718</td>\n",
       "      <td>144491.212333</td>\n",
       "    </tr>\n",
       "    <tr>\n",
       "      <th>2</th>\n",
       "      <td>2414</td>\n",
       "      <td>216024.825397</td>\n",
       "    </tr>\n",
       "    <tr>\n",
       "      <th>3</th>\n",
       "      <td>1989</td>\n",
       "      <td>119298.370918</td>\n",
       "    </tr>\n",
       "    <tr>\n",
       "      <th>4</th>\n",
       "      <td>625</td>\n",
       "      <td>200090.267419</td>\n",
       "    </tr>\n",
       "    <tr>\n",
       "      <th>...</th>\n",
       "      <td>...</td>\n",
       "      <td>...</td>\n",
       "    </tr>\n",
       "    <tr>\n",
       "      <th>873</th>\n",
       "      <td>1662</td>\n",
       "      <td>201173.862302</td>\n",
       "    </tr>\n",
       "    <tr>\n",
       "      <th>874</th>\n",
       "      <td>1234</td>\n",
       "      <td>220810.644459</td>\n",
       "    </tr>\n",
       "    <tr>\n",
       "      <th>875</th>\n",
       "      <td>1373</td>\n",
       "      <td>119418.181214</td>\n",
       "    </tr>\n",
       "    <tr>\n",
       "      <th>876</th>\n",
       "      <td>1672</td>\n",
       "      <td>103369.742772</td>\n",
       "    </tr>\n",
       "    <tr>\n",
       "      <th>877</th>\n",
       "      <td>1939</td>\n",
       "      <td>117224.700630</td>\n",
       "    </tr>\n",
       "  </tbody>\n",
       "</table>\n",
       "<p>878 rows × 2 columns</p>\n",
       "</div>"
      ],
      "text/plain": [
       "       id      saleprice\n",
       "0    2658  121108.402904\n",
       "1    2718  144491.212333\n",
       "2    2414  216024.825397\n",
       "3    1989  119298.370918\n",
       "4     625  200090.267419\n",
       "..    ...            ...\n",
       "873  1662  201173.862302\n",
       "874  1234  220810.644459\n",
       "875  1373  119418.181214\n",
       "876  1672  103369.742772\n",
       "877  1939  117224.700630\n",
       "\n",
       "[878 rows x 2 columns]"
      ]
     },
     "execution_count": 21,
     "metadata": {},
     "output_type": "execute_result"
    }
   ],
   "source": [
    "kag_submission[['id', 'saleprice']]"
   ]
  },
  {
   "cell_type": "code",
   "execution_count": 22,
   "id": "d471a356",
   "metadata": {},
   "outputs": [],
   "source": [
    "kaggle = kag_submission[['id', 'saleprice']]"
   ]
  },
  {
   "cell_type": "code",
   "execution_count": 23,
   "id": "bdac590a",
   "metadata": {},
   "outputs": [],
   "source": [
    "kaggle.to_csv('../datasets/kaggle.csv', index = False)"
   ]
  },
  {
   "cell_type": "code",
   "execution_count": 24,
   "id": "e6a125c9",
   "metadata": {},
   "outputs": [
    {
     "data": {
      "image/png": "[encoded data removed]",
      "text/plain": [
       "<Figure size 576x576 with 1 Axes>"
      ]
     },
     "metadata": {
      "needs_background": "light"
     },
     "output_type": "display_data"
    }
   ],
   "source": [
    "#Plot\n",
    "predictions = lr.predict(X)\n",
    "# score = model.score(X, y)\n",
    "\n",
    "# Plot the model\n",
    "plt.figure(figsize=(8,8))\n",
    "plt.scatter(predictions, y, c ='r')\n",
    "plt.xlabel(\"Predicted Values from Lot Area - $\\hat{y}$\")\n",
    "plt.ylabel(\"Actual Values MEDV - y\")\n",
    "plt.show()"
   ]
  },
  {
   "cell_type": "code",
   "execution_count": 25,
   "id": "c971d11f",
   "metadata": {},
   "outputs": [
    {
     "data": {
      "text/plain": [
       "<AxesSubplot:>"
      ]
     },
     "execution_count": 25,
     "metadata": {},
     "output_type": "execute_result"
    },
    {
     "data": {
      "image/png": "[encoded data removed]",
      "text/plain": [
       "<Figure size 432x288 with 1 Axes>"
      ]
     },
     "metadata": {
      "needs_background": "light"
     },
     "output_type": "display_data"
    }
   ],
   "source": [
    "y.hist()"
   ]
  },
  {
   "cell_type": "code",
   "execution_count": 26,
   "id": "00e5025d",
   "metadata": {},
   "outputs": [
    {
     "data": {
      "image/png": "[encoded data removed]",
      "text/plain": [
       "<Figure size 432x288 with 1 Axes>"
      ]
     },
     "metadata": {
      "needs_background": "light"
     },
     "output_type": "display_data"
    }
   ],
   "source": [
    "plt.hist(residuals);"
   ]
  },
  {
   "cell_type": "code",
   "execution_count": 27,
   "id": "9ddecc0c",
   "metadata": {},
   "outputs": [
    {
     "data": {
      "image/png": "[encoded data removed]",
      "text/plain": [
       "<Figure size 432x288 with 1 Axes>"
      ]
     },
     "metadata": {
      "needs_background": "light"
     },
     "output_type": "display_data"
    }
   ],
   "source": [
    "ax = sns.barplot(x = df_train['overall_qual'], y = df_train['saleprice'])"
   ]
  },
  {
   "cell_type": "code",
   "execution_count": 28,
   "id": "73265fd6",
   "metadata": {},
   "outputs": [
    {
     "data": {
      "image/png": "[encoded data removed]",
      "text/plain": [
       "<Figure size 432x288 with 1 Axes>"
      ]
     },
     "metadata": {
      "needs_background": "light"
     },
     "output_type": "display_data"
    }
   ],
   "source": [
    "residuals = y - predictions\n",
    "plt.hist(residuals, bins=30);"
   ]
  },
  {
   "cell_type": "markdown",
   "id": "0daf6ef3",
   "metadata": {},
   "source": [
    "### Dummy Columns"
   ]
  },
  {
   "cell_type": "code",
   "execution_count": 29,
   "id": "a2b11cb9",
   "metadata": {},
   "outputs": [],
   "source": [
    "# create dummy columns\n",
    "dummies_neighborhood = pd.get_dummies(df_train['neighborhood'])\n",
    "dummies_ext = pd.get_dummies(df_train['exter_qual'])\n",
    "dummies_bmt_qual = pd.get_dummies(df_train['bsmt_qual'])\n",
    "dummies_bmt_cond = pd.get_dummies(df_train['bsmt_cond'])\n",
    "dummies_bmt_qual = pd.get_dummies(df_train['bsmt_qual'])\n",
    "df_train['neighborhood'] = dummies_neighborhood.cumsum(axis=1).ne(1).sum(axis=1)\n",
    "df_train['exter_qual'] = dummies_ext.cumsum(axis=1).ne(1).sum(axis=1)\n",
    "df_train['bsmt_cond'] = dummies_bmt_cond.cumsum(axis=1).ne(1).sum(axis=1)\n",
    "df_train['bsmt_qual'] = dummies_bmt_qual.cumsum(axis=1).ne(1).sum(axis=1)"
   ]
  },
  {
   "cell_type": "markdown",
   "id": "a21b4be6",
   "metadata": {},
   "source": [
    "## Lasso"
   ]
  },
  {
   "cell_type": "code",
   "execution_count": 30,
   "id": "b5095b50",
   "metadata": {},
   "outputs": [],
   "source": [
    "feature_lasso = [col for col in df_train._get_numeric_data().columns \n",
    "                 if col != 'saleprice']\n",
    "\n",
    "X_lasso = df_train[feature_lasso]\n",
    "y_lasso = df_train['saleprice']\n",
    "\n",
    "X_lso_train, X_lso_test, y_lso_train, y_lso_test = train_test_split(X_lasso, y_lasso)"
   ]
  },
  {
   "cell_type": "code",
   "execution_count": 31,
   "id": "5a8fd991",
   "metadata": {},
   "outputs": [],
   "source": [
    "ss = StandardScaler()"
   ]
  },
  {
   "cell_type": "code",
   "execution_count": 32,
   "id": "a9591999",
   "metadata": {},
   "outputs": [
    {
     "data": {
      "text/plain": [
       "StandardScaler()"
      ]
     },
     "execution_count": 32,
     "metadata": {},
     "output_type": "execute_result"
    }
   ],
   "source": [
    "ss.fit(X_lso_train)"
   ]
  },
  {
   "cell_type": "code",
   "execution_count": 33,
   "id": "96d0af86",
   "metadata": {},
   "outputs": [],
   "source": [
    "train_lso_sc = ss.transform(X_lso_train)\n",
    "test_lso_sc = ss.transform(X_lso_test)"
   ]
  },
  {
   "cell_type": "code",
   "execution_count": 34,
   "id": "a9b898ea",
   "metadata": {},
   "outputs": [],
   "source": [
    "alpha_lso = np.logspace(-2, 2, 100)\n",
    "model_lso = LassoCV(alphas=alpha_lso)"
   ]
  },
  {
   "cell_type": "code",
   "execution_count": 35,
   "id": "a531bfbf",
   "metadata": {},
   "outputs": [
    {
     "data": {
      "text/plain": [
       "LassoCV(alphas=array([1.00000000e-02, 1.09749877e-02, 1.20450354e-02, 1.32194115e-02,\n",
       "       1.45082878e-02, 1.59228279e-02, 1.74752840e-02, 1.91791026e-02,\n",
       "       2.10490414e-02, 2.31012970e-02, 2.53536449e-02, 2.78255940e-02,\n",
       "       3.05385551e-02, 3.35160265e-02, 3.67837977e-02, 4.03701726e-02,\n",
       "       4.43062146e-02, 4.86260158e-02, 5.33669923e-02, 5.85702082e-02,\n",
       "       6.42807312e-02, 7.05480231e-0...\n",
       "       1.17681195e+01, 1.29154967e+01, 1.41747416e+01, 1.55567614e+01,\n",
       "       1.70735265e+01, 1.87381742e+01, 2.05651231e+01, 2.25701972e+01,\n",
       "       2.47707636e+01, 2.71858824e+01, 2.98364724e+01, 3.27454916e+01,\n",
       "       3.59381366e+01, 3.94420606e+01, 4.32876128e+01, 4.75081016e+01,\n",
       "       5.21400829e+01, 5.72236766e+01, 6.28029144e+01, 6.89261210e+01,\n",
       "       7.56463328e+01, 8.30217568e+01, 9.11162756e+01, 1.00000000e+02]))"
      ]
     },
     "execution_count": 35,
     "metadata": {},
     "output_type": "execute_result"
    }
   ],
   "source": [
    "model_lso.fit(train_lso_sc, y_lso_train)"
   ]
  },
  {
   "cell_type": "code",
   "execution_count": 36,
   "id": "065e7170",
   "metadata": {},
   "outputs": [
    {
     "name": "stdout",
     "output_type": "stream",
     "text": [
      "0.8793247572280568\n",
      "0.7571740385418647\n"
     ]
    }
   ],
   "source": [
    "lso_score_train = model_lso.score(train_lso_sc, y_lso_train)\n",
    "lso_score_test = model_lso.score(test_lso_sc, y_lso_test)\n",
    "print(lso_score_train)\n",
    "print(lso_score_test)"
   ]
  },
  {
   "cell_type": "code",
   "execution_count": null,
   "id": "1f16bfdb",
   "metadata": {},
   "outputs": [],
   "source": []
  }
 ],
 "metadata": {
  "kernelspec": {
   "display_name": "Python 3",
   "language": "python",
   "name": "python3"
  },
  "language_info": {
   "codemirror_mode": {
    "name": "ipython",
    "version": 3
   },
   "file_extension": ".py",
   "mimetype": "text/x-python",
   "name": "python",
   "nbconvert_exporter": "python",
   "pygments_lexer": "ipython3",
   "version": "3.8.8"
  }
 },
 "nbformat": 4,
 "nbformat_minor": 5
}
